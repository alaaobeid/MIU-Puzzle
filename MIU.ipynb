{
  "nbformat": 4,
  "nbformat_minor": 0,
  "metadata": {
    "kernelspec": {
      "display_name": "Python 3",
      "language": "python",
      "name": "python3"
    },
    "colab": {
      "name": "i (3).ipynb",
      "provenance": []
    }
  },
  "cells": [
    {
      "cell_type": "code",
      "metadata": {
        "id": "7lAN5vrmjtM0",
        "colab_type": "code",
        "colab": {}
      },
      "source": [
        "import time\n",
        "def test(string):\n",
        "    start = time.perf_counter()\n",
        "    search_result=(string)\n",
        "    end = time.perf_counter()\n",
        "    print(\"Time taken:\", end - start)\n",
        "    return search_result\n",
        "def next_states(s):\n",
        "    results=[]\n",
        "    for i in range(len(s)-2):\n",
        "        if s[i:i+3]==\"III\":\n",
        "            temp=s[0:i]+\"U\"+s[i+3:]\n",
        "            if temp not in results:\n",
        "                results.append(temp)\n",
        "    for i in range(len(s)-1):\n",
        "        if s[i:i+2]==\"UU\":\n",
        "            temp2= s[0:i]+s[i+2:]\n",
        "            if temp2 not in results:\n",
        "                results.append(temp2)\n",
        "    if s[-1]==\"I\":\n",
        "        results.append(s+\"U\")\n",
        "    results.append(s[0]+2*s[1:])\n",
        "    return list(set(results))\n",
        "def extend_path(q):\n",
        "     extended=[]\n",
        "     ns=next_states(q[-1])\n",
        "     for s in ns:\n",
        "        next_path = q +[s]\n",
        "        extended.append(next_path)\n",
        "     return extended \n",
        "\n",
        "def bfs(goal):\n",
        "    agenda=[[\"MI\"]]\n",
        "    visited=list()\n",
        "    while agenda!=[\"\"]:\n",
        "        current_path=agenda.pop(0)\n",
        "        if current_path[-1] == goal:\n",
        "            return current_path\n",
        "        elif current_path not in visited:\n",
        "            for i in range(len(extend_path(current_path))):\n",
        "                agenda=agenda+extend_path(current_path)\n",
        "                visited.append(current_path)\n",
        "            \n",
        "                \n",
        "def dl_dfs(goal, limit):\n",
        "    agenda=[[\"MI\"]]\n",
        "    while True:\n",
        "        if agenda==[]:\n",
        "            return []\n",
        "        else:\n",
        "            current_path=agenda.pop(0)\n",
        "            if current_path[-1] == goal:\n",
        "                return current_path\n",
        "            else:\n",
        "                if len(current_path) < limit:\n",
        "                    extended = extend_path(current_path)\n",
        "                    agenda = extended + agenda\n",
        "            \n",
        "def iterative_deepening(goal):\n",
        "    limit = 1\n",
        "    while True:\n",
        "        path = dl_dfs(goal, limit)\n",
        "        if path == []:\n",
        "            limit = limit + 1\n",
        "        else:\n",
        "            break\n",
        "    return path\n",
        "                \n",
        "\n",
        "                \n",
        "            \n",
        "    "
      ],
      "execution_count": 0,
      "outputs": []
    },
    {
      "cell_type": "code",
      "metadata": {
        "id": "gSdpfbC9jtM7",
        "colab_type": "code",
        "outputId": "0921ef18-0f0d-49f4-8ae2-567dc713f5cb",
        "colab": {
          "base_uri": "https://localhost:8080/",
          "height": 51
        }
      },
      "source": [
        "test(bfs(\"MIIIIIIIIU\"))"
      ],
      "execution_count": 9,
      "outputs": [
        {
          "output_type": "stream",
          "text": [
            "Time taken: 3.8299998550428427e-07\n"
          ],
          "name": "stdout"
        },
        {
          "output_type": "execute_result",
          "data": {
            "text/plain": [
              "['MI', 'MII', 'MIIII', 'MIIIIIIII', 'MIIIIIIIIU']"
            ]
          },
          "metadata": {
            "tags": []
          },
          "execution_count": 9
        }
      ]
    },
    {
      "cell_type": "code",
      "metadata": {
        "id": "k7D364hGjtNA",
        "colab_type": "code",
        "outputId": "177bd708-2a55-44f2-a308-2de28715e2be",
        "colab": {
          "base_uri": "https://localhost:8080/",
          "height": 34
        }
      },
      "source": [
        "dl_dfs(\"MIUUI\", 6)"
      ],
      "execution_count": 10,
      "outputs": [
        {
          "output_type": "execute_result",
          "data": {
            "text/plain": [
              "['MI', 'MII', 'MIIII', 'MIIIIIIII', 'MIIIIUI', 'MIUUI']"
            ]
          },
          "metadata": {
            "tags": []
          },
          "execution_count": 10
        }
      ]
    },
    {
      "cell_type": "code",
      "metadata": {
        "id": "tCGVmNURjtNe",
        "colab_type": "code",
        "outputId": "ce2b7004-f7dd-477e-a1c1-d388f79fdeb4",
        "colab": {
          "base_uri": "https://localhost:8080/",
          "height": 51
        }
      },
      "source": [
        "test(iterative_deepening(\"MIIIIIIIIU\"))"
      ],
      "execution_count": 11,
      "outputs": [
        {
          "output_type": "stream",
          "text": [
            "Time taken: 3.3499998153274646e-07\n"
          ],
          "name": "stdout"
        },
        {
          "output_type": "execute_result",
          "data": {
            "text/plain": [
              "['MI', 'MII', 'MIIII', 'MIIIIIIII', 'MIIIIIIIIU']"
            ]
          },
          "metadata": {
            "tags": []
          },
          "execution_count": 11
        }
      ]
    },
    {
      "cell_type": "code",
      "metadata": {
        "id": "67fj9FE-jtNh",
        "colab_type": "code",
        "colab": {}
      },
      "source": [
        ""
      ],
      "execution_count": 0,
      "outputs": []
    }
  ]
}